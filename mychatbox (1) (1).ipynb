{
 "cells": [
  {
   "cell_type": "code",
   "execution_count": null,
   "id": "1c6f2d14",
   "metadata": {},
   "outputs": [
    {
     "name": "stdout",
     "output_type": "stream",
     "text": [
      "Welcome to the chatbot!\n",
      "Ready to have a fun conversation? Let's get started\n"
     ]
    }
   ],
   "source": [
    "def chatresponse(x):\n",
    "    x=x.lower()\n",
    "    travels=[\"any good places to visit\",\"I'm searching for some travel destinations\",\"can you suggest for some vacation spots\",\"what places should I add to my travel bucket list\"]\n",
    "    thanks=[\"thank you\",\"thanks\",\"appreciate it\",\"thanks a lot\",\"i'm greatful\",\"thank you so much\",\"i'm so thankful\"]\n",
    "    foodpreferences=[\"i'm hungry\",\"what should i eat\",\"i'm in the mood for some tasty food\",\"i'm craving something delicious\"]\n",
    "    confirmations=[\"yes\",\"yeah\",\"yup\",\"yeah\",\"yep\",\"you're right\",\"of course\"]\n",
    "    salutations=[\"hello\",\"hi\",\"hola\",\"hey\",\"excuse me\"]\n",
    "    questions=[\"how are you\",\"how's life\",\"what's up\",\"what's going on with you\",\"how's your day\"]\n",
    "    farewells=[\"bye\",\"good bye\",\"catch you later\",\"see you soon\",\"keep in touch\"]\n",
    "     \n",
    "    if any(x==salutation for salutation in salutations):\n",
    "        return \"hi! what can i do for you?\"\n",
    "    elif any(x==foodpref for foodpref in foodpreferences):\n",
    "        return \"Hungry, huh? Let's explore some tasty dishes together!\"\n",
    "    elif any(x==travel for travel in travels):\n",
    "        return \"Planning your next adventure? Let's explore some exciting destinations together!\"\n",
    "    elif any(x==question for question in questions):\n",
    "        return \"Everything's going smoothly! How about you?\"\n",
    "    elif any(x==confirmation for confirmation in confirmations):\n",
    "        return \"Perfect! That's exactly what I needed to know.\"\n",
    "    elif any(x==farewell for farewell in farewells):\n",
    "        return \"Goodbye! Have a great day!\"\n",
    "    else:\n",
    "        return \"I apologize, I'm not sure I follow. Could you please provide more information?\"\n",
    "    \n",
    "def main():\n",
    "    print(\"Welcome to the chatbot!\")\n",
    "    print(\"Ready to have a fun conversation? Let's get started\")\n",
    "    while True:\n",
    "        x = input(\"You: \")\n",
    "\n",
    "        if x.lower() == 'quit':\n",
    "            print(\"Goodbye!\")\n",
    "            break\n",
    "\n",
    "        gen_response = chatresponse(x)\n",
    "\n",
    "        print(\"Chatbot:\", gen_response)\n",
    "\n",
    "if __name__ == \"__main__\":\n",
    "    main()"
   ]
  },
  {
   "cell_type": "code",
   "execution_count": null,
   "id": "5eb37d97",
   "metadata": {},
   "outputs": [],
   "source": []
  }
 ],
 "metadata": {
  "kernelspec": {
   "display_name": "Python 3 (ipykernel)",
   "language": "python",
   "name": "python3"
  },
  "language_info": {
   "codemirror_mode": {
    "name": "ipython",
    "version": 3
   },
   "file_extension": ".py",
   "mimetype": "text/x-python",
   "name": "python",
   "nbconvert_exporter": "python",
   "pygments_lexer": "ipython3",
   "version": "3.11.5"
  }
 },
 "nbformat": 4,
 "nbformat_minor": 5
}
